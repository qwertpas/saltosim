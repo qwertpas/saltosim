{
 "cells": [
  {
   "cell_type": "code",
   "execution_count": 7,
   "metadata": {},
   "outputs": [],
   "source": [
    "import matplotlib as plt\n",
    "import numpy as np\n",
    "from scipy.integrate import solve_ivp"
   ]
  },
  {
   "cell_type": "code",
   "execution_count": 5,
   "metadata": {},
   "outputs": [],
   "source": [
    "motor_max_torque = 1.1 #Nm, from salto after gearing\n",
    "motor_max_vel = 25 #rad/s, 825kv motor geared 38.3\n",
    "def get_motor_torque(t, motor_vel):\n",
    "    input = 0*t + 1 # replace with better function of t\n",
    "    return motor_max_torque * (input - motor_vel/motor_max_vel)"
   ]
  },
  {
   "cell_type": "code",
   "execution_count": 6,
   "metadata": {},
   "outputs": [],
   "source": [
    "def get_TSA_force(motor_torque):\n",
    "    return motor_torque * 1 #replace with actual tsa function\n"
   ]
  },
  {
   "cell_type": "code",
   "execution_count": null,
   "metadata": {},
   "outputs": [],
   "source": [
    "def get_MA_force(input):\n",
    "    return input * 2 #replace with actual MA profile"
   ]
  },
  {
   "cell_type": "code",
   "execution_count": null,
   "metadata": {},
   "outputs": [],
   "source": [
    "k = 1 #N/m random spring constant\n",
    "\n",
    "def jump_model(t, s):\n",
    "    motor_pos, dmotor_pos, spring_pos, dspring_pos, foot_pos, dfoot_pos = s #state\n",
    "\n",
    "    \n",
    "\n",
    "    motor_torque = get_motor_torque(t, dmotor_pos) \n",
    "    tsa_force = get_TSA_force(motor_torque)\n",
    "    spring_force = spring_pos * k\n",
    "    get_MA_force(tsa_force + spring_force)\n",
    "    # Fx = 0\n",
    "    # Fy = - cargo_mass*g\n",
    "\n",
    "    dvx = Fx / cargo_mass\n",
    "    dvy = Fy / cargo_mass\n",
    "    return [dx, dvx, dy, dvy]"
   ]
  },
  {
   "cell_type": "code",
   "execution_count": null,
   "metadata": {},
   "outputs": [],
   "source": [
    "def hit_ground(t, s):\n",
    "    x, vx, y, vy = s\n",
    "    return y\n",
    "hit_ground.terminal = True"
   ]
  },
  {
   "cell_type": "code",
   "execution_count": null,
   "metadata": {},
   "outputs": [],
   "source": [
    "t_span = (0, 5.0)\n",
    "s0 = ()\n",
    "solution = solve_ivp(jump_model, t_span, s0, events=[hit_ground], max_step=0.01)\n",
    "plt.plot(solution.y[0, :], solution.y[2, :], 'bo')"
   ]
  }
 ],
 "metadata": {
  "interpreter": {
   "hash": "31f2aee4e71d21fbe5cf8b01ff0e069b9275f58929596ceb00d14d90e3e16cd6"
  },
  "kernelspec": {
   "display_name": "Python 3.8.2 64-bit",
   "language": "python",
   "name": "python3"
  },
  "language_info": {
   "codemirror_mode": {
    "name": "ipython",
    "version": 3
   },
   "file_extension": ".py",
   "mimetype": "text/x-python",
   "name": "python",
   "nbconvert_exporter": "python",
   "pygments_lexer": "ipython3",
   "version": "3.9.5"
  },
  "orig_nbformat": 4
 },
 "nbformat": 4,
 "nbformat_minor": 2
}
